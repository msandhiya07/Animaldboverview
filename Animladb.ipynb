{
  "nbformat": 4,
  "nbformat_minor": 0,
  "metadata": {
    "colab": {
      "provenance": [],
      "authorship_tag": "ABX9TyMCrGfTyu7N4TbS0uIJDl3u",
      "include_colab_link": true
    },
    "kernelspec": {
      "name": "python3",
      "display_name": "Python 3"
    },
    "language_info": {
      "name": "python"
    }
  },
  "cells": [
    {
      "cell_type": "markdown",
      "metadata": {
        "id": "view-in-github",
        "colab_type": "text"
      },
      "source": [
        "<a href=\"https://colab.research.google.com/github/msandhiya07/Animaldboverview/blob/main/Animladb.ipynb\" target=\"_parent\"><img src=\"https://colab.research.google.com/assets/colab-badge.svg\" alt=\"Open In Colab\"/></a>"
      ]
    },
    {
      "cell_type": "code",
      "execution_count": 18,
      "metadata": {
        "colab": {
          "base_uri": "https://localhost:8080/"
        },
        "id": "Gzevd34X0ngn",
        "outputId": "9e1ac9ec-e159-421f-d7be-ed78286f47fa"
      },
      "outputs": [
        {
          "output_type": "stream",
          "name": "stdout",
          "text": [
            "                  Animal Height (cm) Weight (kg)             Color  \\\n",
            "0               Aardvark     105-130       40-65              Grey   \n",
            "1               Aardwolf       40-50      Aug-14      Yellow-brown   \n",
            "2       African Elephant     270-310   2700-6000              Grey   \n",
            "3           African Lion      80-110     120-250               Tan   \n",
            "4       African Wild Dog       75-80       18-36      Multicolored   \n",
            "..                   ...         ...         ...               ...   \n",
            "200                  Yak     140-160    500-1200      Brown, Black   \n",
            "201  Yellow-Eyed Penguin       60-65      01-Mar     Yellow, White   \n",
            "202            Yeti Crab    Up to 15   Up to 0.5      White, Hairy   \n",
            "203                Zebra     220-340     400-900      Black, White   \n",
            "204          Zebra Shark   Up to 330    Up to 32  Brown, Yellowish   \n",
            "\n",
            "    Lifespan (years)         Diet               Habitat  \\\n",
            "0              20-30  Insectivore  Savannas, Grasslands   \n",
            "1             10-Dec  Insectivore  Grasslands, Savannas   \n",
            "2              60-70    Herbivore      Savannah, Forest   \n",
            "3             Oct-14    Carnivore  Grasslands, Savannas   \n",
            "4             10-Dec    Carnivore             Savannahs   \n",
            "..               ...          ...                   ...   \n",
            "200            20-25    Herbivore             Mountains   \n",
            "201         Up to 20    Carnivore         Coastal Areas   \n",
            "202         Up to 20     Omnivore    Hydrothermal Vents   \n",
            "203            20-25    Herbivore            Grasslands   \n",
            "204            25-30    Carnivore           Coral Reefs   \n",
            "\n",
            "                 Predators Average Speed (km/h)              Countries Found  \\\n",
            "0            Lions, Hyenas                   40                       Africa   \n",
            "1          Lions, Leopards                24-30  Eastern and Southern Africa   \n",
            "2            Lions, Hyenas                   25                       Africa   \n",
            "3       Hyenas, Crocodiles                   58                       Africa   \n",
            "4            Lions, Hyenas                   56           Sub-Saharan Africa   \n",
            "..                     ...                  ...                          ...   \n",
            "200  Snow Leopards, Wolves                   24      Himalayas, Central Asia   \n",
            "201           Seals, Orcas                   25                  New Zealand   \n",
            "202         Not Applicable       Not Applicable                Pacific Ocean   \n",
            "203          Lions, Hyenas                   25                       Africa   \n",
            "204            Larger Fish                   20          Indo-Pacific region   \n",
            "\n",
            "    Conservation Status           Family Gestation Period (days)  \\\n",
            "0         Least Concern  Orycteropodidae                 210-240   \n",
            "1         Least Concern        Hyaenidae                      90   \n",
            "2            Vulnerable     Elephantidae                 640-660   \n",
            "3            Vulnerable          Felidae                  98-105   \n",
            "4            Endangered          Canidae                      70   \n",
            "..                  ...              ...                     ...   \n",
            "200       Least Concern          Bovidae                 215-280   \n",
            "201          Endangered     Spheniscidae                   80-90   \n",
            "202       Not Evaluated         Kiwaidae          Not Applicable   \n",
            "203       Least Concern          Equidae                 180-365   \n",
            "204          Endangered  Stegostomatidae                  Oct-25   \n",
            "\n",
            "    Top Speed (km/h) Social Structure Offspring per Birth  \n",
            "0                 40         Solitary                   1  \n",
            "1                 40         Solitary              02-May  \n",
            "2                 40       Herd-based                   1  \n",
            "3                 80      Group-based       2-4 (usually)  \n",
            "4                 56      Group-based              10-Dec  \n",
            "..               ...              ...                 ...  \n",
            "200               24      Group-based              Oct-50  \n",
            "201               25         Solitary                   1  \n",
            "202   Not Applicable         Solitary      Not Applicable  \n",
            "203               25      Group-based              May-20  \n",
            "204               20         Solitary            Up to 25  \n",
            "\n",
            "[205 rows x 16 columns]\n"
          ]
        }
      ],
      "source": [
        "import pandas as pd\n",
        "df=pd.read_csv(\"/content/Animal Dataset.csv\")\n",
        "df=pd.DataFrame()\n",
        "print(d)"
      ]
    },
    {
      "cell_type": "code",
      "source": [
        "#What is the distribution of animals across different habitats (e.g., forest, savannah, ocean)?\n",
        "\n",
        "#Which diet type (herbivore, carnivore, omnivore) is most common in the dataset?\n",
        "\n",
        "#What is the average lifespan of animals across different diet types (herbivore, carnivore, omnivore)?\n",
        "\n",
        "#Is there a correlation between the size of animals (small, medium, large) and their conservation status (e.g., endangered, vulnerable)?\n",
        "\n",
        "#Which region has the highest number of animal species in the dataset?\n",
        "\n",
        "#How does the conservation status of animals vary between different regions (e.g., Africa, North America, Australia)?\n",
        "\n",
        "##What is the average size of animals in the dataset, and does it vary across habitats?\n",
        "\n",
        "##Which animal species has the longest and shortest lifespan in the dataset?\n",
        "\n",
        "##What is the most common conservation status among the animals in the dataset?\n",
        "\n",
        "#Are there any species that occupy multiple habitats, and what are the implications for their survival and conservation status?#"
      ],
      "metadata": {
        "id": "bUnJ4f0P2y2d"
      },
      "execution_count": null,
      "outputs": []
    },
    {
      "cell_type": "code",
      "source": [
        "habitat_distribution = d['Habitat'].value_counts()\n",
        "print(\"Habitat Distribution:\")\n",
        "print(habitat_distribution)"
      ],
      "metadata": {
        "colab": {
          "base_uri": "https://localhost:8080/"
        },
        "id": "yQ4NYwCT3rcl",
        "outputId": "c76f3588-4e4c-478d-dd14-acaaabef3641"
      },
      "execution_count": 10,
      "outputs": [
        {
          "output_type": "stream",
          "name": "stdout",
          "text": [
            "Habitat Distribution:\n",
            "Habitat\n",
            "Rainforests            31\n",
            "Forests                10\n",
            "Oceans                 10\n",
            "Grasslands             10\n",
            "Forests, Grasslands     9\n",
            "                       ..\n",
            "Forests, Caves          1\n",
            "Sahara Desert           1\n",
            "Gardens, Grasslands     1\n",
            "Antarctic               1\n",
            "Hydrothermal Vents      1\n",
            "Name: count, Length: 97, dtype: int64\n"
          ]
        }
      ]
    }
  ]
}